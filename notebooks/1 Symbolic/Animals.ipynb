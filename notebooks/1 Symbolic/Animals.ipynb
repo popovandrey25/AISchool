{
  "cells": [
    {
      "metadata": {
        "collapsed": true
      },
      "cell_type": "markdown",
      "source": "# Экспертная система - животные\n\nВ этом упражнении мы реализуем экспертную систему \"животные\" из одной классической книги. Дерево И-ИЛИ системы приведено на рисунке ниже:"
    },
    {
      "metadata": {},
      "cell_type": "markdown",
      "source": "![AND-OR Tree](https://raw.githubusercontent.com/shwars/AISchool/master/images/ExpSysAnimal.jpg)"
    },
    {
      "metadata": {},
      "cell_type": "markdown",
      "source": "## Обратный вывод\n\nПопробуем реализовать простую экспертную систему обратного вывода самостоятельно. Для представления правил и запросов определим несколько классов:"
    },
    {
      "metadata": {
        "trusted": true
      },
      "cell_type": "code",
      "source": "class Ask():\n    def __init__(self,choices=['y','n']):\n        self.choices = choices\n    def ask(self):\n        if max([len(x) for x in self.choices])>1:\n            for i,x in enumerate(self.choices):\n                print(\"{0}. {1}\".format(i,x))\n            x = int(input())\n            return self.choices[x]\n        else:\n            print(\"/\".join(self.choices))\n            return input()\n\nclass Content():\n    def __init__(self,x):\n        self.x=x\n        \nclass If(Content):\n    pass\n\nclass AND(Content):\n    pass\n\nclass OR(Content):\n    pass",
      "execution_count": 1,
      "outputs": []
    },
    {
      "metadata": {},
      "cell_type": "markdown",
      "source": "Сами правила базы знаний можно записать следующим образом:"
    },
    {
      "metadata": {
        "trusted": true
      },
      "cell_type": "code",
      "source": "rules = {\n    'default': Ask(['y','n']),\n    'цвет' : Ask(['рыжевато-коричневый','чёрное с белым','другое']),\n    'узор' : Ask(['чёрные полосы','тёмные пятна']),\n    'млекопитающее': If(OR(['волосы','даёт молоко'])),\n    'хищник': If(OR([AND(['острые зубы','когти','вперед смотрящие глаза']),'ест мясо'])),\n    'копытное': If(['млекопитающее',OR(['копыта','жуёт жвачку'])]),\n    'птица': If(OR(['оперение',AND(['летает','откладывает яйца'])])),\n    'животное:обезьяна' : If(['млекопитающее','хищник','цвет:рыжевато-коричневый','узор:тёмные пятна']),\n    'животное:тигр' : If(['млекопитающее','хищник','цвет:рыжевато-коричневый','узор:чёрные полосы']),\n    'животное:жираф' : If(['копытное','длинная шея','длинные ноги','узор:тёмные пятна']),\n    'животное:зебра' : If(['копытное','узор:чёрные полосы']),\n    'животное:страус' : If(['птица','длинная шея','цвет:черное с белым','не может летать']),\n    'животное:пингвин' : If(['птица','плавает','цвет:черное с белым','не может летать']),\n    'животное:альбатрос' : If(['птица','хорошо летает'])\n}",
      "execution_count": 3,
      "outputs": []
    },
    {
      "metadata": {},
      "cell_type": "markdown",
      "source": "Наконец опишем рекурсивую машину обратного вывода:"
    },
    {
      "metadata": {
        "trusted": true
      },
      "cell_type": "code",
      "source": "class KnowledgeBase():\n    def __init__(self,rules):\n        self.rules = rules\n        self.memory = {}\n        \n    def get(self,name):\n        if name in self.memory.keys():\n            return self.memory[name]\n        for fld in self.rules.keys():\n            if fld==name or fld.startswith(name+\":\"):\n                # print(\" + proving {}\".format(fld))\n                value = 'y' if fld==name else fld.split(':')[1]\n                res = self.eval(self.rules[fld],field=name)\n                if res=='y':\n                    self.memory[name] = value\n                    return value\n        # field is not found, using default\n        res = self.eval(self.rules['default'],field=name)\n        self.memory[name]=res\n        return res\n                \n    def eval(self,expr,field=None):\n        if isinstance(expr,Ask):\n            print(field)\n            return expr.ask()\n        elif isinstance(expr,If):\n            return self.eval(expr.x)\n        elif isinstance(expr,AND) or isinstance(expr,list):\n            expr = expr.x if isinstance(expr,AND) else expr\n            for x in expr:\n                if self.eval(x)=='n':\n                    return 'n'\n            return 'y'\n        elif isinstance(expr,OR):\n            for x in expr.x:\n                if self.eval(x)=='y':\n                    return 'y'\n            return 'n'\n        elif isinstance(expr,str):\n            return self.get(expr)\n        else:\n            print(\"Unknown expr: {}\".format(expr))",
      "execution_count": 20,
      "outputs": []
    },
    {
      "metadata": {
        "trusted": true
      },
      "cell_type": "code",
      "source": "kb = KnowledgeBase(rules)\nkb.get('животное')",
      "execution_count": 21,
      "outputs": [
        {
          "output_type": "stream",
          "text": "волосы\ny/n\ny\nострые зубы\ny/n\ny\nкогти\ny/n\ny\nвперед смотрящие глаза\ny/n\ny\nцвет:рыжевато-коричневый\ny/n\nn\nкопыта\ny/n\ny\nдлинная шея\ny/n\ny\nдлинные ноги\ny/n\ny\nузор:тёмные пятна\ny/n\nn\nузор:чёрные полосы\ny/n\ny\n",
          "name": "stdout"
        },
        {
          "output_type": "execute_result",
          "execution_count": 21,
          "data": {
            "text/plain": "'зебра'"
          },
          "metadata": {}
        }
      ]
    },
    {
      "metadata": {},
      "cell_type": "markdown",
      "source": "## Прямой вывод\n\nПрямой вывод мы реализуем на базе библиотеки [PyKnow](https://pyknow.readthedocs.io). **PyKnow** - это библиотека для построения экспертных систем прямого вывода на Python, которая спроектирована так, чтобы быть похожей на классическую систему [CLIPS](http://www.clipsrules.net/index.html). \n\nНаивную систему прямого вывода тоже не составило бы труда реализовать самим, однако она была бы неэффективной. Для реализации эффективного матчинга правил и состояния рабочей памяти используется алгоритм *Rete*."
    },
    {
      "metadata": {
        "trusted": true
      },
      "cell_type": "code",
      "source": "import sys\n!{sys.executable} -m pip install pyknow",
      "execution_count": 2,
      "outputs": [
        {
          "output_type": "stream",
          "text": "Collecting pyknow\n  Downloading https://files.pythonhosted.org/packages/9a/3c/7d9d1fe456f0488d6a208c265d9e7f4dbec15014168cf5c2dd87e5c17bdf/pyknow-1.7.0.tar.gz\nCollecting frozendict==1.2 (from pyknow)\n  Downloading https://files.pythonhosted.org/packages/4e/55/a12ded2c426a4d2bee73f88304c9c08ebbdbadb82569ebdd6a0c007cfd08/frozendict-1.2.tar.gz\nCollecting schema==0.6.7 (from pyknow)\n  Downloading https://files.pythonhosted.org/packages/5d/42/32c059aa876eb16521a292e634d18f25408b2441862ff823f59af273d720/schema-0.6.7-py2.py3-none-any.whl\nBuilding wheels for collected packages: pyknow, frozendict\n  Running setup.py bdist_wheel for pyknow ... \u001b[?25ldone\n\u001b[?25h  Stored in directory: /home/nbuser/.cache/pip/wheels/96/ef/da/808b35ad3b3495cab3ca610cc8ce757280f1c36d529d0771de\n  Running setup.py bdist_wheel for frozendict ... \u001b[?25ldone\n\u001b[?25h  Stored in directory: /home/nbuser/.cache/pip/wheels/6c/6c/e9/534386165bd12cf1885582c75eb6d0ffcb321b65c23fe0f834\nSuccessfully built pyknow frozendict\nInstalling collected packages: frozendict, schema, pyknow\nSuccessfully installed frozendict-1.2 pyknow-1.7.0 schema-0.6.7\n",
          "name": "stdout"
        }
      ]
    },
    {
      "metadata": {
        "trusted": true
      },
      "cell_type": "code",
      "source": "from pyknow import *",
      "execution_count": 3,
      "outputs": []
    },
    {
      "metadata": {
        "trusted": true
      },
      "cell_type": "code",
      "source": "class Animals(KnowledgeEngine):\n    @Rule(OR(\n           AND(Fact('острые зубы'),Fact('когти'),Fact('вперёд смотрящие глаза')),\n           Fact('ест мясо')))\n    def cornivor(self):\n        self.declare(Fact('хищник'))\n        \n    @Rule(OR(Fact('волосы'),Fact('даёт молоко')))\n    def mammal(self):\n        self.declare(Fact('млекопитающее'))\n\n    @Rule(Fact('млекопитающее'),\n          OR(Fact('копыта'),Fact('жуёт жвачку')))\n    def hooves(self):\n        self.declare('копытное')\n        \n    @Rule(OR(Fact('оперение'),AND(Fact('летает'),Fact('откладывает яйца'))))\n    def bird(self):\n        self.declare('птица')\n        \n    @Rule(Fact('млекопитающее'),Fact('хищник'),\n          Fact(color='рыжевато-коричневый'),\n          Fact(pattern='тёмные пятна'))\n    def monkey(self):\n        self.declare(Fact(animal='обезьяна'))\n\n    @Rule(Fact('млекопитающее'),Fact('хищник'),\n          Fact(color='рыжевато-коричневый'),\n          Fact(pattern='чёрные полосы'))\n    def tiger(self):\n        self.declare(Fact(animal='тигр'))\n\n    @Rule(Fact('копытное'),\n          Fact('длинная шея'),\n          Fact('длинные ноги'),\n          Fact(pattern='тёмные пятна'))\n    def giraffe(self):\n        self.declare(Fact(animal='жираф'))\n\n    @Rule(Fact('копытное'),\n          Fact(pattern='чёрные полосы'))\n    def zebra(self):\n        self.declare(Fact(animal='зебра'))\n\n    @Rule(Fact('птица'),\n          Fact('длинная шея'),\n          Fact('не может летать'),\n          Fact(color='чёрное с белым'))\n    def straus(self):\n        self.declare(Fact(animal='страус'))\n\n    @Rule(Fact('птица'),\n          Fact('плавает'),\n          Fact('не может летать'),\n          Fact(color='чёрное с белым'))\n    def pinguin(self):\n        self.declare(Fact(animal='пингвин'))\n\n    @Rule(Fact('птица'),\n          Fact('хорошо летает'))\n    def albatros(self):\n        self.declare(Fact(animal='альбатрос'))\n        \n    @Rule(Fact(animal=MATCH.a))\n    def print_result(self,a):\n          print('Животное - {}'.format(a))\n                    \n    def factz(self,l):\n        for x in l:\n            self.declare(x)",
      "execution_count": 43,
      "outputs": []
    },
    {
      "metadata": {
        "trusted": true
      },
      "cell_type": "code",
      "source": "ex1 = Animals()\nex1.reset()\nex1.factz([\n    Fact(color='рыжевато-коричневый'),\n    Fact(pattern='чёрные полосы'),\n    Fact('острые зубы'),\n    Fact('когти'),\n    Fact('вперёд смотрящие глаза'),\n    Fact('даёт молоко')])\nex1.run()\nex1.facts",
      "execution_count": 47,
      "outputs": [
        {
          "output_type": "stream",
          "text": "Животное - тигр\n",
          "name": "stdout"
        },
        {
          "output_type": "execute_result",
          "execution_count": 47,
          "data": {
            "text/plain": "FactList([(0, InitialFact()),\n          (1, Fact(color='рыжевато-коричневый')),\n          (2, Fact(pattern='чёрные полосы')),\n          (3, Fact('острые зубы')),\n          (4, Fact('когти')),\n          (5, Fact('вперёд смотрящие глаза')),\n          (6, Fact('даёт молоко')),\n          (7, Fact('млекопитающее')),\n          (8, Fact('хищник')),\n          (9, Fact(animal='тигр'))])"
          },
          "metadata": {}
        }
      ]
    }
  ],
  "metadata": {
    "kernelspec": {
      "name": "python36",
      "display_name": "Python 3.6",
      "language": "python"
    },
    "language_info": {
      "mimetype": "text/x-python",
      "nbconvert_exporter": "python",
      "name": "python",
      "pygments_lexer": "ipython3",
      "version": "3.6.6",
      "file_extension": ".py",
      "codemirror_mode": {
        "version": 3,
        "name": "ipython"
      }
    }
  },
  "nbformat": 4,
  "nbformat_minor": 2
}