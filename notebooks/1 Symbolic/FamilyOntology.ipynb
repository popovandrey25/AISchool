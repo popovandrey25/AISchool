{
  "cells": [
    {
      "metadata": {
        "collapsed": true
      },
      "cell_type": "markdown",
      "source": "# Экспериментируем с генеалогическим деревом\n\nРассмотрим пример использования онтологии родственных отношений для поиска родственников в генеалогическом дереве. В качестве примера рассмотрим родословное дерево царской семьи, как наиболее доступное и подробное. Примеры вдохновлены [вот этой статьёй](https://habr.com/post/270857/).\n\nДля работы с генеалогическими данными используется формат [GEDCOM](https://en.wikipedia.org/wiki/GEDCOM). Возьмём родословную, транслитерированную для простоты на латиницу:"
    },
    {
      "metadata": {
        "trusted": true
      },
      "cell_type": "code",
      "source": "!wget https://raw.githubusercontent.com/blokhin/genealogical-trees/master/data/tsars.ged\n!head tsars.ged",
      "execution_count": 1,
      "outputs": [
        {
          "output_type": "stream",
          "text": "--2018-11-16 20:36:44--  https://raw.githubusercontent.com/blokhin/genealogical-trees/master/data/tsars.ged\nResolving webproxy (webproxy)... 10.36.35.1\nConnecting to webproxy (webproxy)|10.36.35.1|:3128... connected.\nProxy request sent, awaiting response... 200 OK\nLength: 4540 (4.4K) [text/plain]\nSaving to: ‘tsars.ged.8’\n\ntsars.ged.8         100%[===================>]   4.43K  --.-KB/s    in 0.002s  \n\n2018-11-16 20:36:45 (2.49 MB/s) - ‘tsars.ged.8’ saved [4540/4540]\n\n0 HEAD\n1 CHAR UTF8\n1 GEDC\n2 VERS 5.5\n0 @0@ INDI\n1 NAME Mihail Fedorovich /Romanov/\n1 SEX M\n",
          "name": "stdout"
        }
      ]
    },
    {
      "metadata": {},
      "cell_type": "markdown",
      "source": "Попробуем вытащить полезную информацию из этого родословного дерева. Для начала установим библиотеку `python-gedcom` из репозитория GitHub:"
    },
    {
      "metadata": {
        "trusted": true
      },
      "cell_type": "code",
      "source": "import sys\n!{sys.executable} -m pip install git+git://github.com/nickreynke/python-gedcom.git#egg=python-gedcom\n!rm -rf src",
      "execution_count": 2,
      "outputs": [
        {
          "output_type": "stream",
          "text": "Requirement already satisfied: python-gedcom from git+git://github.com/nickreynke/python-gedcom.git#egg=python-gedcom in /home/nbuser/anaconda3_501/lib/python3.6/site-packages (0.2.0.dev0)\r\n",
          "name": "stdout"
        }
      ]
    },
    {
      "metadata": {},
      "cell_type": "markdown",
      "source": "Для работы с записями в файле создаём объект `Gedcom`. К сожалению, объект предоставляет лишь достаточно низкоуровневой доступ к файлу, позволяя по сути читать отдельные записи (об индивиддумах и семьях)."
    },
    {
      "metadata": {
        "trusted": true
      },
      "cell_type": "code",
      "source": "from gedcom import Gedcom\ng = Gedcom('tsars.ged')",
      "execution_count": 63,
      "outputs": [
        {
          "output_type": "error",
          "ename": "FileNotFoundError",
          "evalue": "[Errno 2] No such file or directory: 'tsars.ged'",
          "traceback": [
            "\u001b[0;31m---------------------------------------------------------------------------\u001b[0m",
            "\u001b[0;31mFileNotFoundError\u001b[0m                         Traceback (most recent call last)",
            "\u001b[0;32m<ipython-input-63-d19b3b0ae4d1>\u001b[0m in \u001b[0;36m<module>\u001b[0;34m\u001b[0m\n\u001b[1;32m      1\u001b[0m \u001b[0;32mfrom\u001b[0m \u001b[0mgedcom\u001b[0m \u001b[0;32mimport\u001b[0m \u001b[0mGedcom\u001b[0m\u001b[0;34m\u001b[0m\u001b[0m\n\u001b[0;32m----> 2\u001b[0;31m \u001b[0mg\u001b[0m \u001b[0;34m=\u001b[0m \u001b[0mGedcom\u001b[0m\u001b[0;34m(\u001b[0m\u001b[0;34m'tsars.ged'\u001b[0m\u001b[0;34m)\u001b[0m\u001b[0;34m\u001b[0m\u001b[0m\n\u001b[0m",
            "\u001b[0;32m~/anaconda3_501/lib/python3.6/site-packages/gedcom/__init__.py\u001b[0m in \u001b[0;36m__init__\u001b[0;34m(self, file_path)\u001b[0m\n\u001b[1;32m    146\u001b[0m         \u001b[0mself\u001b[0m\u001b[0;34m.\u001b[0m\u001b[0minvalidate_cache\u001b[0m\u001b[0;34m(\u001b[0m\u001b[0;34m)\u001b[0m\u001b[0;34m\u001b[0m\u001b[0m\n\u001b[1;32m    147\u001b[0m         \u001b[0mself\u001b[0m\u001b[0;34m.\u001b[0m\u001b[0m__root_element\u001b[0m \u001b[0;34m=\u001b[0m \u001b[0mElement\u001b[0m\u001b[0;34m(\u001b[0m\u001b[0;34m-\u001b[0m\u001b[0;36m1\u001b[0m\u001b[0;34m,\u001b[0m \u001b[0;34m\"\"\u001b[0m\u001b[0;34m,\u001b[0m \u001b[0;34m\"ROOT\"\u001b[0m\u001b[0;34m,\u001b[0m \u001b[0;34m\"\"\u001b[0m\u001b[0;34m)\u001b[0m\u001b[0;34m\u001b[0m\u001b[0m\n\u001b[0;32m--> 148\u001b[0;31m         \u001b[0mself\u001b[0m\u001b[0;34m.\u001b[0m\u001b[0m__parse\u001b[0m\u001b[0;34m(\u001b[0m\u001b[0mfile_path\u001b[0m\u001b[0;34m)\u001b[0m\u001b[0;34m\u001b[0m\u001b[0m\n\u001b[0m\u001b[1;32m    149\u001b[0m \u001b[0;34m\u001b[0m\u001b[0m\n\u001b[1;32m    150\u001b[0m     \u001b[0;32mdef\u001b[0m \u001b[0minvalidate_cache\u001b[0m\u001b[0;34m(\u001b[0m\u001b[0mself\u001b[0m\u001b[0;34m)\u001b[0m\u001b[0;34m:\u001b[0m\u001b[0;34m\u001b[0m\u001b[0m\n",
            "\u001b[0;32m~/anaconda3_501/lib/python3.6/site-packages/gedcom/__init__.py\u001b[0m in \u001b[0;36m__parse\u001b[0;34m(self, file_path)\u001b[0m\n\u001b[1;32m    218\u001b[0m         \u001b[0;34m:\u001b[0m\u001b[0mtype\u001b[0m \u001b[0mfile_path\u001b[0m\u001b[0;34m:\u001b[0m \u001b[0mstr\u001b[0m\u001b[0;34m\u001b[0m\u001b[0m\n\u001b[1;32m    219\u001b[0m         \"\"\"\n\u001b[0;32m--> 220\u001b[0;31m         \u001b[0mgedcom_file\u001b[0m \u001b[0;34m=\u001b[0m \u001b[0mopen\u001b[0m\u001b[0;34m(\u001b[0m\u001b[0mfile_path\u001b[0m\u001b[0;34m,\u001b[0m \u001b[0;34m'rb'\u001b[0m\u001b[0;34m)\u001b[0m\u001b[0;34m\u001b[0m\u001b[0m\n\u001b[0m\u001b[1;32m    221\u001b[0m         \u001b[0mline_number\u001b[0m \u001b[0;34m=\u001b[0m \u001b[0;36m1\u001b[0m\u001b[0;34m\u001b[0m\u001b[0m\n\u001b[1;32m    222\u001b[0m         \u001b[0mlast_element\u001b[0m \u001b[0;34m=\u001b[0m \u001b[0mself\u001b[0m\u001b[0;34m.\u001b[0m\u001b[0m__root_element\u001b[0m\u001b[0;34m\u001b[0m\u001b[0m\n",
            "\u001b[0;31mFileNotFoundError\u001b[0m: [Errno 2] No such file or directory: 'tsars.ged'"
          ]
        }
      ]
    },
    {
      "metadata": {
        "trusted": true,
        "scrolled": true
      },
      "cell_type": "code",
      "source": "d = g.get_element_dictionary()\n[ (k,v.get_name()) for k,v in d.items()]",
      "execution_count": 4,
      "outputs": [
        {
          "output_type": "execute_result",
          "execution_count": 4,
          "data": {
            "text/plain": "[('@0@', ('Mihail Fedorovich', 'Romanov')),\n ('@1@', ('Evdokija Lukjanovna', 'Streshneva')),\n ('@2@', ('Aleksej Mihajlovich', 'Romanov')),\n ('@3@', ('Marija Ilinichna', 'Miloslavskaja')),\n ('@4@', ('Natalja Kirillovna', 'Naryshkina')),\n ('@5@', ('Marfa Matveevna', 'Apraksina')),\n ('@6@', ('Fedor Alekseevich', 'Romanov')),\n ('@7@', ('Sofja Aleksevna', 'Romanova')),\n ('@8@', ('Ivan V Alekseevich', 'Romanov')),\n ('@9@', ('Praskovja Fedorovna', 'Saltykova')),\n ('@10@', ('Ekaterina Ivanovna', 'Romanova')),\n ('@11@', ('Anna Ivanovna', 'Romanova')),\n ('@12@', ('Fridrih Vilgelm', 'Kurlandskij')),\n ('@13@', ('Karl Leopold', 'Meklenburg-Shverinskij')),\n ('@14@', ('Anna Leopoldovna', 'Meklenburg-Shverinskaja')),\n ('@15@', ('Anton Ulrih', 'Braunshvejg-Volfenbjuttelskij')),\n ('@16@', ('Ivan VI Antonovich', 'Braunshvejg-Volfenbjuttelskij')),\n ('@17@', ('Petr I Alekseevich', 'Romanov')),\n ('@18@', ('Evdokija Fedorovna', 'Lopuhina')),\n ('@19@', ('Ekaterina I Alekseevna', 'Mihajlova')),\n ('@20@', ('Aleksej Petrovich', 'Romanov')),\n ('@21@', ('Sharlotta Kristina', 'Braunshvejg-Volfenbjuttelskaja')),\n ('@22@', ('Petr II Alekseevich', 'Romanov')),\n ('@23@', ('Anna Petrovna', 'Romanova')),\n ('@24@', ('Elizaveta Petrovna', 'Romanova')),\n ('@25@', ('Karl Fridrih', 'Golshtejn-Gottorpskij')),\n ('@26@', ('Petr III Fedorovich', 'Romanov')),\n ('@27@', ('Ekaterina II', 'Alekseevna')),\n ('@28@', ('Pavel I Petrovich', 'Romanov')),\n ('@29@', ('Natalja Alekseevna', 'Gessen-Darmshtadskaja')),\n ('@30@', ('Marija Fedorovna', 'Vjurtembergskaja')),\n ('@31@', ('Aleksandr I Pavlovich', 'Romanov')),\n ('@32@', ('Elizaveta Alekseevna', 'Baden-Durlahskaja')),\n ('@33@', ('Nikolaj I Pavlovich', 'Romanov')),\n ('@34@', ('Aleksandra Fedorovna', 'Prusskaja')),\n ('@35@', ('Aleksandr II Nikolaevich', 'Romanov')),\n ('@36@', ('Marija Aleksandrovna', 'Gessenskaja')),\n ('@37@', ('Aleksandr III Aleksandrovich', 'Romanov')),\n ('@38@', ('Marija Fedorovna', 'Datskaja')),\n ('@39@', ('Nikolaj II Aleksandrovich', 'Romanov')),\n ('@40@', ('Aleksandra Fedorovna', 'Gessenskaja')),\n ('@41@', ('', '')),\n ('@42@', ('', '')),\n ('@43@', ('', '')),\n ('@44@', ('', '')),\n ('@45@', ('', '')),\n ('@46@', ('', '')),\n ('@47@', ('', '')),\n ('@48@', ('', '')),\n ('@49@', ('', '')),\n ('@50@', ('', '')),\n ('@51@', ('', '')),\n ('@52@', ('', '')),\n ('@53@', ('', '')),\n ('@54@', ('', '')),\n ('@55@', ('', ''))]"
          },
          "metadata": {}
        }
      ]
    },
    {
      "metadata": {},
      "cell_type": "markdown",
      "source": "Следующим шагом скачаем онтологию родства, описанную в формате троек Semantic Web. В этой онтологии описаны такие родственные отношения, как дядя (`isUncleOf`), кузен (`isCousinOf`) и множество других. При этом эти отношения описаны на основе базовых родственных отношений, и с помощью системы рассуждений мы должны быть в состоянии вывести все эти дополнительные отношения автоматически."
    },
    {
      "metadata": {
        "trusted": true
      },
      "cell_type": "code",
      "source": "!wget https://raw.githubusercontent.com/blokhin/genealogical-trees/master/data/header.ttl\n!mv header.ttl onto.ttl\n!head -20 onto.ttl",
      "execution_count": 5,
      "outputs": [
        {
          "output_type": "stream",
          "text": "--2018-11-16 20:36:56--  https://raw.githubusercontent.com/blokhin/genealogical-trees/master/data/header.ttl\nResolving webproxy (webproxy)... 10.36.35.1\nConnecting to webproxy (webproxy)|10.36.35.1|:3128... connected.\nProxy request sent, awaiting response... 200 OK\nLength: 9220 (9.0K) [text/plain]\nSaving to: ‘header.ttl’\n\nheader.ttl          100%[===================>]   9.00K  --.-KB/s    in 0.002s  \n\n2018-11-16 20:36:56 (4.05 MB/s) - ‘header.ttl’ saved [9220/9220]\n\n@prefix fhkb: <http://www.example.com/genealogy.owl#> .\n@prefix owl: <http://www.w3.org/2002/07/owl#> .\n@prefix rdf: <http://www.w3.org/1999/02/22-rdf-syntax-ns#> .\n@prefix rdfs: <http://www.w3.org/2000/01/rdf-schema#> .\n@prefix xml: <http://www.w3.org/XML/1998/namespace> .\n@prefix xsd: <http://www.w3.org/2001/XMLSchema#> .\n\n<http://www.example.com/genealogy.owl#> a owl:Ontology .\n\nfhkb:DomainEntity a owl:Class .\n\nfhkb:Man a owl:Class ;\n    owl:equivalentClass [ a owl:Class ;\n            owl:intersectionOf ( fhkb:Person [ a owl:Restriction ;\n                        owl:onProperty fhkb:hasSex ;\n                        owl:someValuesFrom fhkb:Male ] ) ] .\n\nfhkb:Woman a owl:Class ;\n    owl:equivalentClass [ a owl:Class ;\n            owl:intersectionOf ( fhkb:Person [ a owl:Restriction ;\n",
          "name": "stdout"
        }
      ]
    },
    {
      "metadata": {},
      "cell_type": "markdown",
      "source": "Для удобства получим единую онтологию, в которой к имеющимся правилам допишем в конец сведения о конкретных родственниках, полученные из файла GedCom. Для этого пройдем по всему файлу и вытащим информацию об индивиддумах и семьях, и преобразуем их в формат троек **turtle**."
    },
    {
      "metadata": {
        "trusted": true
      },
      "cell_type": "code",
      "source": "gedcom_dict = g.get_element_dictionary()\nindividuals, marriages = {}, {}\n\ndef term2id(el):\n    return \"i\" + el.get_pointer().replace('@', '').lower()\n\nout = open(\"onto.ttl\",\"a\")\n\nfor k, v in gedcom_dict.items():\n    if v.is_individual():\n        children, siblings = set(), set()\n        idx = term2id(v)\n\n        title = v.get_name()[0] + \" \" + v.get_name()[1]\n        title = title.replace('\"', '').replace('[', '').replace(']', '').replace('(', '').replace(')', '').strip()\n\n        own_families = g.get_families(v, 'FAMS')\n        for fam in own_families:\n            children |= set(term2id(i) for i in g.get_family_members(fam, \"CHIL\"))\n\n        parent_families = g.get_families(v, 'FAMC')\n        if len(parent_families):\n            for member in g.get_family_members(parent_families[0], \"CHIL\"): # NB adoptive families i.e len(parent_families)>1 are not considered (TODO?)\n                if member.get_pointer() == v.get_pointer():\n                    continue\n                siblings.add(term2id(member))\n\n        if idx in individuals:\n            children |= individuals[idx].get('children', set())\n            siblings |= individuals[idx].get('siblings', set())\n        individuals[idx] = {'sex': v.get_gender().lower(), 'children': children, 'siblings': siblings, 'title': title}\n\n    elif v.is_family():\n        wife, husb, children = None, None, set()\n        children = set(term2id(i) for i in g.get_family_members(v, \"CHIL\"))\n\n        try:\n            wife = g.get_family_members(v, \"WIFE\")[0]\n            wife = term2id(wife)\n            if wife in individuals: individuals[wife]['children'] |= children\n            else: individuals[wife] = {'children': children}\n        except IndexError: pass\n        try:\n            husb = g.get_family_members(v, \"HUSB\")[0]\n            husb = term2id(husb)\n            if husb in individuals: individuals[husb]['children'] |= children\n            else: individuals[husb] = {'children': children}\n        except IndexError: pass\n\n        if wife and husb: marriages[wife + husb] = (term2id(v), wife, husb)\n\nfor idx, val in individuals.items():\n    added_terms = ''\n    if val['sex'] == 'f':\n        parent_predicate, sibl_predicate = \"isMotherOf\", \"isSisterOf\"\n    else:\n        parent_predicate, sibl_predicate = \"isFatherOf\", \"isBrotherOf\"\n    if len(val['children']):\n        added_terms += \" ;\\n    fhkb:\" + parent_predicate + \" \" + \", \".join([\"fhkb:\" + i for i in val['children']])\n    if len(val['siblings']):\n        added_terms += \" ;\\n    fhkb:\" + sibl_predicate + \" \" + \", \".join([\"fhkb:\" + i for i in val['siblings']])\n    out.write(\"fhkb:%s a owl:NamedIndividual, owl:Thing%s ;\\n    rdfs:label \\\"%s\\\" .\\n\" % (idx, added_terms, val['title']))\n\nfor k, v in marriages.items():\n    out.write(\"fhkb:%s a owl:NamedIndividual, owl:Thing ;\\n    fhkb:hasFemalePartner fhkb:%s ;\\n    fhkb:hasMalePartner fhkb:%s .\\n\" % v)\n\nout.write(\"[] a owl:AllDifferent ;\\n    owl:distinctMembers (\")\nfor idx in individuals.keys():\n    out.write(\"    fhkb:\" + idx)\nfor k, v in marriages.items():\n    out.write(\"    fhkb:\" + v[0])\nout.write(\"    ) .\")\nout.close()",
      "execution_count": 6,
      "outputs": []
    },
    {
      "metadata": {
        "trusted": true
      },
      "cell_type": "code",
      "source": "!tail onto.ttl",
      "execution_count": 62,
      "outputs": [
        {
          "output_type": "stream",
          "text": "tail: cannot open 'onto.ttl' for reading: No such file or directory\r\n",
          "name": "stdout"
        }
      ]
    },
    {
      "metadata": {},
      "cell_type": "markdown",
      "source": "Следующим шагом нам потребуется работать с получившейся онтологией семейства. Для этого используем библиотеку [RDFLib](https://github.com/RDFLib), которая позволяет читать RDF Graph в различных форматах, формулировать к нему запросы и т.д. \n\nДля проведения логического вывода используем библиотеку [RDFClosure](https://github.com/RDFLib/OWL-RL), которая позволит нам получить **замыкание** графа, т.е. добавить в него все возможные выводимые конструкции, что впоследствии сделать к ним запрос."
    },
    {
      "metadata": {
        "trusted": true
      },
      "cell_type": "code",
      "source": "!{sys.executable} -m pip install rdflib\n!{sys.executable} -m pip install git+git://github.com/RDFLib/OWL-RL.git#egg=RDFClosure",
      "execution_count": 15,
      "outputs": [
        {
          "output_type": "stream",
          "text": "Requirement already satisfied: rdflib in /home/nbuser/anaconda3_501/lib/python3.6/site-packages (4.2.2)\nRequirement already satisfied: isodate in /home/nbuser/anaconda3_501/lib/python3.6/site-packages (from rdflib) (0.6.0)\nRequirement already satisfied: pyparsing in /home/nbuser/anaconda3_501/lib/python3.6/site-packages (from rdflib) (2.2.1)\nRequirement already satisfied: six in /home/nbuser/anaconda3_501/lib/python3.6/site-packages (from isodate->rdflib) (1.11.0)\nCollecting RDFClosure from git+git://github.com/RDFLib/OWL-RL.git#egg=RDFClosure\n  Cloning git://github.com/RDFLib/OWL-RL.git to /tmp/pip-install-3jouot5s/RDFClosure\nBuilding wheels for collected packages: RDFClosure\n  Running setup.py bdist_wheel for RDFClosure ... \u001b[?25ldone\n\u001b[?25h  Stored in directory: /tmp/pip-ephem-wheel-cache-13in8fda/wheels/d8/db/e8/a1d3dea0a6029d7e76b153cfb7129a343a1e357c055c87896b\nSuccessfully built RDFClosure\nInstalling collected packages: RDFClosure\nSuccessfully installed RDFClosure-5.0.0\n",
          "name": "stdout"
        }
      ]
    },
    {
      "metadata": {},
      "cell_type": "markdown",
      "source": "Открываем файл с онтологией и смотрим, сколько триплетов в нем изначально находится."
    },
    {
      "metadata": {
        "trusted": true
      },
      "cell_type": "code",
      "source": "import rdflib\nfrom RDFClosure import DeductiveClosure, OWLRL_Extension\n\ng = rdflib.Graph()\ng.parse(\"onto.ttl\", format=\"turtle\")\n\nprint(\"Triplets found:%d\" % len(g))",
      "execution_count": 51,
      "outputs": [
        {
          "output_type": "stream",
          "text": "Triplets found:669\n",
          "name": "stdout"
        }
      ]
    },
    {
      "metadata": {},
      "cell_type": "markdown",
      "source": "Теперь осуществляем логический вывод и смотрим на количество получившихся триплетов:"
    },
    {
      "metadata": {
        "trusted": true
      },
      "cell_type": "code",
      "source": "DeductiveClosure(OWLRL_Extension).expand(g)\nprint(\"Triplets after inference:%d\" % len(g))",
      "execution_count": 53,
      "outputs": [
        {
          "output_type": "stream",
          "text": "Triplets after inference:4202\n",
          "name": "stdout"
        }
      ]
    },
    {
      "metadata": {},
      "cell_type": "markdown",
      "source": "Запрос к графу удобнее всего делать на языке **SPARQL**. В нашем случае мы определим, кто является чьим дядей:"
    },
    {
      "metadata": {
        "trusted": true
      },
      "cell_type": "code",
      "source": "qres = g.query(\n    \"\"\"SELECT DISTINCT ?aname ?bname\n       WHERE {\n          ?a fhkb:isUncleOf ?b .\n          ?a rdfs:label ?aname .\n          ?b rdfs:label ?bname .\n       }\"\"\")\n\nfor row in qres:\n    print(\"%s is uncle of %s\" % row)",
      "execution_count": 56,
      "outputs": [
        {
          "output_type": "stream",
          "text": "Aleksandr I Pavlovich Romanov is uncle of Aleksandr II Nikolaevich Romanov\nFedor Alekseevich Romanov is uncle of Anna Ivanovna Romanova\nFedor Alekseevich Romanov is uncle of Ekaterina Ivanovna Romanova\n",
          "name": "stdout"
        }
      ]
    },
    {
      "metadata": {},
      "cell_type": "markdown",
      "source": "В заключение удалим все лишние файлы"
    },
    {
      "metadata": {
        "trusted": true
      },
      "cell_type": "code",
      "source": "!rm tsars.ged onto.ttl",
      "execution_count": 60,
      "outputs": [
        {
          "output_type": "stream",
          "text": "rm: cannot remove 'tsars.ged': No such file or directory\r\n",
          "name": "stdout"
        }
      ]
    },
    {
      "metadata": {
        "trusted": true
      },
      "cell_type": "code",
      "source": "",
      "execution_count": null,
      "outputs": []
    }
  ],
  "metadata": {
    "kernelspec": {
      "name": "python36",
      "display_name": "Python 3.6",
      "language": "python"
    },
    "language_info": {
      "mimetype": "text/x-python",
      "nbconvert_exporter": "python",
      "name": "python",
      "pygments_lexer": "ipython3",
      "version": "3.6.6",
      "file_extension": ".py",
      "codemirror_mode": {
        "version": 3,
        "name": "ipython"
      }
    }
  },
  "nbformat": 4,
  "nbformat_minor": 2
}