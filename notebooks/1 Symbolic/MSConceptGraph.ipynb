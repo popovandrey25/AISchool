{
  "cells": [
    {
      "metadata": {
        "collapsed": true
      },
      "cell_type": "markdown",
      "source": "## Microsoft Concept Graph\n\n[Microsoft Concept Graph](https://concept.research.microsoft.com/) - это таксономия терминов, устанавливающая отношение `is-a` между концептами. \n\nГраф доступен в двух вариантах:\n * Текстовый файл для скачивания\n * REST API\n\nСтатистика:\n * 5401933 уникальных концептов, \n * 12551613 уникальных сущностей\n * 87603947 отношений `is-a`"
    },
    {
      "metadata": {},
      "cell_type": "markdown",
      "source": "## Использование веб-сервиса\n\nВеб-сервис предоставляет различные варианты вероятностной оценки принадлежности концепта к разным группам. Подробности - [тут](https://concept.research.microsoft.com/Home/Api).\nПример URL для запроса: `https://concept.research.microsoft.com/api/Concept/ScoreByProb?instance=microsoft&topK=10`"
    },
    {
      "metadata": {
        "trusted": true
      },
      "cell_type": "code",
      "source": "import urllib.request\nimport json\n\ndef http(x):\n    response = urllib.request.urlopen(x)\n    data = response.read()\n    return data.decode('utf-8')\n\ndef query(x):\n    return json.loads(http(\"https://concept.research.microsoft.com/api/Concept/ScoreByProb?instance={}&topK=10\".format(x)))\n\nquery('microsoft')",
      "execution_count": 4,
      "outputs": [
        {
          "output_type": "execute_result",
          "execution_count": 4,
          "data": {
            "text/plain": "{'company': 0.6105356614382954,\n 'vendor': 0.08858636677518003,\n 'client': 0.048239124001183784,\n 'firm': 0.045476965571668145,\n 'large company': 0.043109401203511886,\n 'organization': 0.043010752688172046,\n 'corporation': 0.035908059583703265,\n 'brand': 0.03383644076156654,\n 'software company': 0.027522935779816515,\n 'technology company': 0.023774292196902438}"
          },
          "metadata": {}
        }
      ]
    },
    {
      "metadata": {},
      "cell_type": "markdown",
      "source": "Попробуем категоризовать заголовки новостей на основе ключевых концептов. Для доступа к новостям используем сервис [NewsApi.org](http://newsapi.org). Для использования сервиса необходимо зарегистрироваться и получить свой ключ доступа:"
    },
    {
      "metadata": {
        "trusted": true
      },
      "cell_type": "code",
      "source": "newsapi_key = '7015bc6ae10841679b21676c05bdad97'\ndef get_news(country='us'):\n    res = json.loads(http(\"https://newsapi.org/v2/top-headlines?country={0}&apiKey={1}\".format(country,newsapi_key)))\n    return res['articles']\n\nall_titles = [x['title'] for x in get_news('us')+get_news('gb')]",
      "execution_count": 5,
      "outputs": []
    },
    {
      "metadata": {},
      "cell_type": "markdown",
      "source": "Извлечём из заголовков существительные:"
    },
    {
      "metadata": {
        "trusted": true
      },
      "cell_type": "code",
      "source": "import sys\n!{sys.executable} -m textblob.download_corpora\nfrom textblob import TextBlob",
      "execution_count": 9,
      "outputs": [
        {
          "output_type": "stream",
          "text": "[nltk_data] Downloading package brown to /home/nbuser/nltk_data...\n[nltk_data]   Package brown is already up-to-date!\n[nltk_data] Downloading package punkt to /home/nbuser/nltk_data...\n[nltk_data]   Package punkt is already up-to-date!\n[nltk_data] Downloading package wordnet to /home/nbuser/nltk_data...\n[nltk_data]   Package wordnet is already up-to-date!\n[nltk_data] Downloading package conll2000 to /home/nbuser/nltk_data...\n[nltk_data]   Package conll2000 is already up-to-date!\n[nltk_data] Downloading package maxent_treebank_pos_tagger to\n[nltk_data]     /home/nbuser/nltk_data...\n[nltk_data]   Package maxent_treebank_pos_tagger is already up-to-\n[nltk_data]       date!\n[nltk_data] Downloading package movie_reviews to\n[nltk_data]     /home/nbuser/nltk_data...\n[nltk_data]   Package movie_reviews is already up-to-date!\nFinished.\n",
          "name": "stdout"
        }
      ]
    },
    {
      "metadata": {
        "trusted": true
      },
      "cell_type": "code",
      "source": "w = {}\nfor x in all_titles:\n    for n in TextBlob(x).noun_phrases:\n        if n in w:\n            w[n].append(x)\n        else:\n            w[n]=[x]\n{ x:len(w[x]) for x in w.keys()}",
      "execution_count": 10,
      "outputs": [
        {
          "output_type": "execute_result",
          "execution_count": 10,
          "data": {
            "text/plain": "{'chapo': 2,\n 'anxious juror': 2,\n 'britain': 1,\n 'eu agree': 1,\n 'brexit': 1,\n 'federal judge orders review': 1,\n 'provisional ballots': 1,\n 'georgia': 1,\n 'delays deadline': 1,\n 'terrorist attacks': 1,\n 'trump': 4,\n 'twitter': 1,\n 'gesture': 2,\n 'nazi': 2,\n 'wis.': 2,\n 'amazon': 1,\n 'billion': 1,\n 'queens': 1,\n 'begins': 1,\n 'fight': 1,\n 'worth': 1,\n 'white house': 2,\n 'matt whitaker': 1,\n 'temporary replacement': 1,\n 'sessions': 1,\n 'stan lee': 2,\n 'true legacy': 1,\n 'complicated cosmic mystery': 1,\n 'ocasio-cortez': 1,\n 'joins climate': 1,\n 'pelosi': 1,\n \"'s office\": 1,\n 'ruth bader ginsburg': 1,\n 'supreme court': 1,\n 'session': 1,\n 'breaking ribs': 1,\n 'improve': 1,\n 'midlothian': 1,\n 'police officer': 1,\n 'shot security guard': 1,\n 'jemel roberson': 1,\n 'hate': 1,\n 'new fbi data': 1,\n 'cnn': 2,\n 'sues president': 1,\n 'jim acosta': 2,\n \"'s press pass\": 1,\n 'california wildfires updates': 2,\n 'dead': 2,\n 'camp fire': 2,\n 'expected': 2,\n 'rise': 2,\n 'halted': 1,\n 'vatican': 1,\n 'us bishops': 1,\n 'anti-sex abuse measures': 1,\n 'michelle obama': 1,\n 'malia': 1,\n 'sasha': 1,\n 'korea': 1,\n 'missile bases': 1,\n 'violate': 1,\n 'promises': 1,\n 'never made': 1,\n 'monica lewinsky': 2,\n 'bill clinton': 2,\n 'refusal': 1,\n 'apologize': 1,\n 'power looks': 1,\n 'nj': 1,\n \"nor'easter\": 1,\n 'dump snow': 1,\n 'wintry mix': 1,\n 'khashoggi': 1,\n 'saudi': 1,\n 'crown prince': 1,\n 'rooney': 1,\n 'wembley': 1,\n 'letter': 1,\n 'comic book': 1,\n 'legend': 1,\n 'written': 1,\n 'biggest fans': 1,\n 'celebrity': 1,\n 'who': 1,\n 'mystery contestant': 1,\n 'demands return': 1,\n \"'s press credentials\": 1,\n 'gang use car': 1,\n 'selfridges': 1,\n 'merkel': 1,\n 'macron': 1,\n 'true european army': 1,\n 'baby': 1,\n 'crossbow shot': 1,\n 'labour mp fiona onasanya': 1,\n 'new doc': 1,\n 'susanna dinnage': 1,\n 'richard scudamore': 1,\n 'premier league': 1,\n 'chief executive': 1,\n 'innocent man': 1,\n 'tommy robinson': 1,\n 'edl': 1,\n 'us visa': 1,\n 'congress': 1,\n 'washington': 1,\n 'brexit live': 1,\n 'eu': 1,\n 'technical level': 1,\n 'special cabinet announcement': 1,\n 'chelsea': 1,\n 'love': 1,\n 'joe cole': 1,\n 'eden hazard': 1,\n 'blues': 1,\n 'warm': 1,\n 'denver': 1,\n 'midterms': 1,\n 'late': 1,\n \"'blue wave\": 1,\n 'party secures': 1,\n 'election performance': 1,\n 'conservative activist jerome corsi says': 1,\n 'expects': 1,\n 'be indicted': 1,\n 'mueller probe': 1}"
          },
          "metadata": {}
        }
      ]
    },
    {
      "metadata": {},
      "cell_type": "markdown",
      "source": "Мы видим, что существительные не дают нам разбиения на сколько-либо значимые смысловые группы. Попробуем заменить существительные на их более общие понятия, полученные через knowledge graph"
    },
    {
      "metadata": {
        "trusted": true
      },
      "cell_type": "code",
      "source": "w = {}\nfor x in all_titles:\n    for noun in TextBlob(x).noun_phrases:\n        terms = query(noun.replace(' ','%20'))\n        for term in [u for u in terms.keys() if terms[u]>0.1]:\n            if term in w:\n                w[term].append(x)\n            else:\n                w[term]=[x]",
      "execution_count": 16,
      "outputs": []
    },
    {
      "metadata": {
        "trusted": true
      },
      "cell_type": "code",
      "source": "{ x:len(w[x]) for x in w.keys() if len(w[x])>3}",
      "execution_count": 19,
      "outputs": [
        {
          "output_type": "execute_result",
          "execution_count": 19,
          "data": {
            "text/plain": "{'topic': 6,\n 'state': 4,\n 'candidate': 4,\n 'republican candidate': 4,\n 'republican presidential candidate': 4,\n 'city': 4,\n 'place': 5,\n 'concept': 4,\n 'word': 9,\n 'person': 5}"
          },
          "metadata": {}
        }
      ]
    },
    {
      "metadata": {
        "trusted": true
      },
      "cell_type": "code",
      "source": "print('\\nCITY:\\n'+'\\n'.join(w['city']))\nprint('\\nSTATE:\\n'+'\\n'.join(w['state']))\nprint('\\nPERSON:\\n'+'\\n'.join(w['person']))\nprint('\\nCANDIDATE:\\n'+'\\n'.join(w['candidate']))",
      "execution_count": 26,
      "outputs": [
        {
          "output_type": "stream",
          "text": "\nCITY:\nGesture intended as 'goodbye,' not Nazi salute, says parent who took controversial Wis. photo\nGesture intended as 'goodbye,' not Nazi salute, says parent who took controversial Wis. photo\nTommy Robinson: EDL founder not granted US visa in time to meet Congress members in Washington\nWarm up through Friday in Denver before snow on Saturday\n\nSTATE:\nFederal judge orders review of all provisional ballots in Georgia, delays deadline for certification\nHalted from voting by the Vatican, US bishops begin heated debate about anti-sex abuse measures\nNJ weather: Nor'easter to dump snow, wintry mix and rain on Thursday\nTommy Robinson: EDL founder not granted US visa in time to meet Congress members in Washington\n\nPERSON:\nMidlothian police officer who fatally shot security guard Jemel Roberson placed on administrative leave, officials say\nMonica Lewinsky: Bill Clinton's Refusal To Apologize Is Proof Of 'What Power Looks Like'\nI'm A Celebrity 2018 line-up: Who will be the mystery contestant?\nMonica Lewinsky details Bill Clinton affair, terrifying meeting with investigators in new doc\nTommy Robinson: EDL founder not granted US visa in time to meet Congress members in Washington\n\nCANDIDATE:\nFrench preoccupied with anniversary of devastating terrorist attacks as Trump slams their president on Twitter\nCNN sues President Trump, aides over suspension of Jim Acosta's press pass\nMichelle Obama talks 2020 Trump challengers, gives update on Malia and Sasha\nNorth Korea's Secret Missile Bases Don't Violate Its Promises to Trump — It Never Made Any\n",
          "name": "stdout"
        }
      ]
    },
    {
      "metadata": {},
      "cell_type": "markdown",
      "source": "## Использование \"сырых\" данных\n\nСырые данные (около 320 Мб) можно загрузить с сайта следующим образом:"
    },
    {
      "metadata": {
        "trusted": true
      },
      "cell_type": "code",
      "source": "!wget https://concept.research.microsoft.com/Home/StartDownload",
      "execution_count": 1,
      "outputs": [
        {
          "output_type": "stream",
          "text": "--2018-11-13 16:45:09--  https://concept.research.microsoft.com/Home/StartDownload\nResolving webproxy (webproxy)... 10.36.64.1\nConnecting to webproxy (webproxy)|10.36.64.1|:3128... connected.\nProxy request sent, awaiting response... 302 Found\nLocation: /Home/DownloadData?key=MV3tkEjOI0bN8OH8UDZ8sN3AxhLwZHvz&h=106218505 [following]\n--2018-11-13 16:45:09--  https://concept.research.microsoft.com/Home/DownloadData?key=MV3tkEjOI0bN8OH8UDZ8sN3AxhLwZHvz&h=106218505\nReusing existing connection to concept.research.microsoft.com:443.\nProxy request sent, awaiting response... 200 OK\nLength: unspecified [application/octet-stream]\nSaving to: ‘StartDownload’\n\nStartDownload           [      <=>           ] 320.76M  3.07MB/s    in 1m 49s  \n\n2018-11-13 16:46:58 (2.95 MB/s) - ‘StartDownload’ saved [336346900]\n\n",
          "name": "stdout"
        }
      ]
    },
    {
      "metadata": {
        "trusted": true
      },
      "cell_type": "code",
      "source": "!mv StartDownload concept.zip\n!unzip -p concept.zip data-concept/data-concept-instance-relations.txt | head -10",
      "execution_count": 7,
      "outputs": [
        {
          "output_type": "stream",
          "text": "mv: cannot stat 'StartDownload': No such file or directory\nfactor\tage\t35167\nfree rich company datum\tsize\t33222\nfree rich company datum\trevenue\t33185\nstate\tcalifornia\t18062\nsupplement\tmsm glucosamine sulfate\t15942\nfactor\tgender\t14230\nfactor\ttemperature\t13660\nmetal\tcopper\t11142\nissue\tstress pain depression sickness\t11110\nvariable\tage\t9375\n",
          "name": "stdout"
        }
      ]
    },
    {
      "metadata": {
        "trusted": true
      },
      "cell_type": "code",
      "source": "!rm concept.zip\n!rm -rf data-concept",
      "execution_count": 27,
      "outputs": []
    },
    {
      "metadata": {
        "trusted": true
      },
      "cell_type": "code",
      "source": "",
      "execution_count": null,
      "outputs": []
    }
  ],
  "metadata": {
    "kernelspec": {
      "name": "python36",
      "display_name": "Python 3.6",
      "language": "python"
    },
    "language_info": {
      "mimetype": "text/x-python",
      "nbconvert_exporter": "python",
      "name": "python",
      "pygments_lexer": "ipython3",
      "version": "3.6.6",
      "file_extension": ".py",
      "codemirror_mode": {
        "version": 3,
        "name": "ipython"
      }
    }
  },
  "nbformat": 4,
  "nbformat_minor": 2
}