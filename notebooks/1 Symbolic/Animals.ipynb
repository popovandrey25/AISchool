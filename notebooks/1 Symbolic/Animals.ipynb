{
  "cells": [
    {
      "metadata": {
        "collapsed": true
      },
      "cell_type": "markdown",
      "source": [
        "# Экспертная система - животные\n",
        "\n",
        "В этом упражнении мы реализуем экспертную систему \"животные\" из одной классической книги. Дерево И-ИЛИ системы приведено на рисунке ниже:"
      ]
    },
    {
      "metadata": {},
      "cell_type": "markdown",
      "source": [
        "![AND-OR Tree](https://raw.githubusercontent.com/shwars/AISchool/master/images/ExpSysAnimal.jpg)"
      ]
    },
    {
      "metadata": {},
      "cell_type": "markdown",
      "source": [
        "## Обратный вывод\n",
        "\n",
        "Попробуем реализовать простую экспертную систему обратного вывода самостоятельно. Для представления правил и запросов определим несколько классов:"
      ]
    },
    {
      "metadata": {
        "trusted": true
      },
      "cell_type": "code",
      "source": [
        "class Ask():\n",
        "    def __init__(self,choices=['y','n']):\n",
        "        self.choices = choices\n",
        "    def ask(self):\n",
        "        if max([len(x) for x in self.choices])>1:\n",
        "            for i,x in enumerate(self.choices):\n",
        "                print(\"{0}. {1}\".format(i,x))\n",
        "            x = int(input())\n",
        "            return self.choices[x]\n",
        "        else:\n",
        "            print(\"/\".join(self.choices))\n",
        "            return input()\n",
        "\n",
        "class Content():\n",
        "    def __init__(self,x):\n",
        "        self.x=x\n",
        "        \n",
        "class If(Content):\n",
        "    pass\n",
        "\n",
        "class AND(Content):\n",
        "    pass\n",
        "\n",
        "class OR(Content):\n",
        "    pass"
      ],
      "execution_count": 1,
      "outputs": []
    },
    {
      "metadata": {},
      "cell_type": "markdown",
      "source": [
        "Сами правила базы знаний можно записать следующим образом:"
      ]
    },
    {
      "metadata": {
        "trusted": true
      },
      "cell_type": "code",
      "source": [
        "rules = {\n",
        "    'default': Ask(['y','n']),\n",
        "    'цвет' : Ask(['рыжевато-коричневый','чёрное с белым','другое']),\n",
        "    'узор' : Ask(['чёрные полосы','тёмные пятна']),\n",
        "    'млекопитающее': If(OR(['волосы','даёт молоко'])),\n",
        "    'хищник': If(OR([AND(['острые зубы','когти','вперед смотрящие глаза']),'ест мясо'])),\n",
        "    'копытное': If(['млекопитающее',OR(['копыта','жуёт жвачку'])]),\n",
        "    'птица': If(OR(['оперение',AND(['летает','откладывает яйца'])])),\n",
        "    'животное:обезьяна' : If(['млекопитающее','хищник','цвет:рыжевато-коричневый','узор:тёмные пятна']),\n",
        "    'животное:тигр' : If(['млекопитающее','хищник','цвет:рыжевато-коричневый','узор:чёрные полосы']),\n",
        "    'животное:жираф' : If(['копытное','длинная шея','длинные ноги','узор:тёмные пятна']),\n",
        "    'животное:зебра' : If(['копытное','узор:чёрные полосы']),\n",
        "    'животное:страус' : If(['птица','длинная шея','цвет:черное с белым','не может летать']),\n",
        "    'животное:пингвин' : If(['птица','плавает','цвет:черное с белым','не может летать']),\n",
        "    'животное:альбатрос' : If(['птица','хорошо летает'])\n",
        "}"
      ],
      "execution_count": 2,
      "outputs": []
    },
    {
      "metadata": {},
      "cell_type": "markdown",
      "source": [
        "Наконец опишем рекурсивую машину обратного вывода:"
      ]
    },
    {
      "metadata": {
        "trusted": true
      },
      "cell_type": "code",
      "source": [
        "class KnowledgeBase():\n",
        "    def __init__(self,rules):\n",
        "        self.rules = rules\n",
        "        self.memory = {}\n",
        "        \n",
        "    def get(self,name):\n",
        "        if name in self.memory.keys():\n",
        "            return self.memory[name]\n",
        "        for fld in self.rules.keys():\n",
        "            if fld==name or fld.startswith(name+\":\"):\n",
        "                # print(\" + proving {}\".format(fld))\n",
        "                value = 'y' if fld==name else fld.split(':')[1]\n",
        "                res = self.eval(self.rules[fld],field=name)\n",
        "                if res=='y':\n",
        "                    self.memory[name] = value\n",
        "                    return value\n",
        "        # field is not found, using default\n",
        "        res = self.eval(self.rules['default'],field=name)\n",
        "        self.memory[name]=res\n",
        "        return res\n",
        "                \n",
        "    def eval(self,expr,field=None):\n",
        "        if isinstance(expr,Ask):\n",
        "            print(field)\n",
        "            return expr.ask()\n",
        "        elif isinstance(expr,If):\n",
        "            return self.eval(expr.x)\n",
        "        elif isinstance(expr,AND) or isinstance(expr,list):\n",
        "            expr = expr.x if isinstance(expr,AND) else expr\n",
        "            for x in expr:\n",
        "                if self.eval(x)=='n':\n",
        "                    return 'n'\n",
        "            return 'y'\n",
        "        elif isinstance(expr,OR):\n",
        "            for x in expr.x:\n",
        "                if self.eval(x)=='y':\n",
        "                    return 'y'\n",
        "            return 'n'\n",
        "        elif isinstance(expr,str):\n",
        "            return self.get(expr)\n",
        "        else:\n",
        "            print(\"Unknown expr: {}\".format(expr))"
      ],
      "execution_count": 3,
      "outputs": []
    },
    {
      "metadata": {
        "trusted": true
      },
      "cell_type": "code",
      "source": [
        "kb = KnowledgeBase(rules)\n",
        "kb.get('животное')"
      ],
      "execution_count": 4,
      "outputs": [
        {
          "output_type": "stream",
          "name": "stdout",
          "text": [
            "волосы\n",
            "y/n\n",
            "острые зубы\n",
            "y/n\n",
            "когти\n",
            "y/n\n",
            "вперед смотрящие глаза\n",
            "y/n\n",
            "цвет:рыжевато-коричневый\n",
            "y/n\n",
            "узор:тёмные пятна\n",
            "y/n\n",
            "узор:чёрные полосы\n",
            "y/n\n"
          ]
        },
        {
          "output_type": "execute_result",
          "data": {
            "text/plain": [
              "'тигр'"
            ]
          },
          "metadata": {},
          "execution_count": 4
        }
      ]
    },
    {
      "metadata": {},
      "cell_type": "markdown",
      "source": [
        "## Прямой вывод\n",
        "\n",
        "Прямой вывод мы реализуем на базе библиотеки [PyKnow](https://github.com/buguroo/pyknow/). **PyKnow** - это библиотека для построения экспертных систем прямого вывода на Python, которая спроектирована так, чтобы быть похожей на классическую систему [CLIPS](http://www.clipsrules.net/index.html). \n",
        "\n",
        "Наивную систему прямого вывода тоже не составило бы труда реализовать самим, однако она была бы неэффективной. Для реализации эффективного матчинга правил и состояния рабочей памяти используется алгоритм *Rete*."
      ]
    },
    {
      "metadata": {
        "trusted": true
      },
      "cell_type": "code",
      "source": [
        "import sys\n",
        "!{sys.executable} -m pip install git+https://github.com/buguroo/pyknow/"
      ],
      "execution_count": 6,
      "outputs": [
        {
          "output_type": "stream",
          "name": "stdout",
          "text": [
            "Collecting git+https://github.com/buguroo/pyknow/\n",
            "  Cloning https://github.com/buguroo/pyknow/ to c:\\users\\dmitryso\\appdata\\local\\temp\\pip-req-build-cd_5yrho\n",
            "Collecting frozendict==1.2\n",
            "  Downloading frozendict-1.2.tar.gz (2.6 kB)\n",
            "Collecting schema==0.6.7\n",
            "  Downloading schema-0.6.7-py2.py3-none-any.whl (14 kB)\n",
            "Building wheels for collected packages: pyknow, frozendict\n",
            "  Building wheel for pyknow (setup.py): started\n",
            "  Building wheel for pyknow (setup.py): finished with status 'done'\n",
            "  Created wheel for pyknow: filename=pyknow-1.7.0-py3-none-any.whl size=34584 sha256=77c3154d491f789fde3d8f3d8d6dceabc1271a3799ba2045a00cff6e1615bf8b\n",
            "  Stored in directory: C:\\Users\\dmitryso\\AppData\\Local\\Temp\\pip-ephem-wheel-cache-3w7y8pnf\\wheels\\d7\\8a\\1f\\40a9edb6f4ce8add0d4029b2c5e274d32d140ac8a7036d5a47\n",
            "  Building wheel for frozendict (setup.py): started\n",
            "  Building wheel for frozendict (setup.py): finished with status 'done'\n",
            "  Created wheel for frozendict: filename=frozendict-1.2-py3-none-any.whl size=3153 sha256=1bbc9862355139cca39e4ea7a632e0d7aace80b5c615c2af3a6dcc3bcd64103e\n",
            "  Stored in directory: c:\\users\\dmitryso\\appdata\\local\\pip\\cache\\wheels\\68\\17\\69\\ac196dd181e620bba5fae5488e4fd6366a7316dce13cf88776\n",
            "Successfully built pyknow frozendict\n",
            "Installing collected packages: schema, frozendict, pyknow\n",
            "Successfully installed frozendict-1.2 pyknow-1.7.0 schema-0.6.7\n",
            "WARNING: You are using pip version 20.3.3; however, version 21.0.1 is available.\n",
            "You should consider upgrading via the 'C:\\winapp\\Miniconda3\\python.exe -m pip install --upgrade pip' command.\n"
          ]
        }
      ]
    },
    {
      "metadata": {
        "trusted": true
      },
      "cell_type": "code",
      "source": [
        "from pyknow import *"
      ],
      "execution_count": 7,
      "outputs": []
    },
    {
      "metadata": {
        "trusted": true
      },
      "cell_type": "code",
      "source": [
        "class Animals(KnowledgeEngine):\n",
        "    @Rule(OR(\n",
        "           AND(Fact('острые зубы'),Fact('когти'),Fact('вперёд смотрящие глаза')),\n",
        "           Fact('ест мясо')))\n",
        "    def cornivor(self):\n",
        "        self.declare(Fact('хищник'))\n",
        "        \n",
        "    @Rule(OR(Fact('волосы'),Fact('даёт молоко')))\n",
        "    def mammal(self):\n",
        "        self.declare(Fact('млекопитающее'))\n",
        "\n",
        "    @Rule(Fact('млекопитающее'),\n",
        "          OR(Fact('копыта'),Fact('жуёт жвачку')))\n",
        "    def hooves(self):\n",
        "        self.declare('копытное')\n",
        "        \n",
        "    @Rule(OR(Fact('оперение'),AND(Fact('летает'),Fact('откладывает яйца'))))\n",
        "    def bird(self):\n",
        "        self.declare('птица')\n",
        "        \n",
        "    @Rule(Fact('млекопитающее'),Fact('хищник'),\n",
        "          Fact(color='рыжевато-коричневый'),\n",
        "          Fact(pattern='тёмные пятна'))\n",
        "    def monkey(self):\n",
        "        self.declare(Fact(animal='обезьяна'))\n",
        "\n",
        "    @Rule(Fact('млекопитающее'),Fact('хищник'),\n",
        "          Fact(color='рыжевато-коричневый'),\n",
        "          Fact(pattern='чёрные полосы'))\n",
        "    def tiger(self):\n",
        "        self.declare(Fact(animal='тигр'))\n",
        "\n",
        "    @Rule(Fact('копытное'),\n",
        "          Fact('длинная шея'),\n",
        "          Fact('длинные ноги'),\n",
        "          Fact(pattern='тёмные пятна'))\n",
        "    def giraffe(self):\n",
        "        self.declare(Fact(animal='жираф'))\n",
        "\n",
        "    @Rule(Fact('копытное'),\n",
        "          Fact(pattern='чёрные полосы'))\n",
        "    def zebra(self):\n",
        "        self.declare(Fact(animal='зебра'))\n",
        "\n",
        "    @Rule(Fact('птица'),\n",
        "          Fact('длинная шея'),\n",
        "          Fact('не может летать'),\n",
        "          Fact(color='чёрное с белым'))\n",
        "    def straus(self):\n",
        "        self.declare(Fact(animal='страус'))\n",
        "\n",
        "    @Rule(Fact('птица'),\n",
        "          Fact('плавает'),\n",
        "          Fact('не может летать'),\n",
        "          Fact(color='чёрное с белым'))\n",
        "    def pinguin(self):\n",
        "        self.declare(Fact(animal='пингвин'))\n",
        "\n",
        "    @Rule(Fact('птица'),\n",
        "          Fact('хорошо летает'))\n",
        "    def albatros(self):\n",
        "        self.declare(Fact(animal='альбатрос'))\n",
        "        \n",
        "    @Rule(Fact(animal=MATCH.a))\n",
        "    def print_result(self,a):\n",
        "          print('Животное - {}'.format(a))\n",
        "                    \n",
        "    def factz(self,l):\n",
        "        for x in l:\n",
        "            self.declare(x)"
      ],
      "execution_count": 8,
      "outputs": []
    },
    {
      "metadata": {
        "trusted": true
      },
      "cell_type": "code",
      "source": [
        "ex1 = Animals()\n",
        "ex1.reset()\n",
        "ex1.factz([\n",
        "    Fact(color='рыжевато-коричневый'),\n",
        "    Fact(pattern='чёрные полосы'),\n",
        "    Fact('острые зубы'),\n",
        "    Fact('когти'),\n",
        "    Fact('вперёд смотрящие глаза'),\n",
        "    Fact('даёт молоко')])\n",
        "ex1.run()\n",
        "ex1.facts"
      ],
      "execution_count": 9,
      "outputs": [
        {
          "output_type": "stream",
          "name": "stdout",
          "text": [
            "Животное - тигр\n"
          ]
        },
        {
          "output_type": "execute_result",
          "data": {
            "text/plain": [
              "FactList([(0, InitialFact()),\n",
              "          (1, Fact(color='рыжевато-коричневый')),\n",
              "          (2, Fact(pattern='чёрные полосы')),\n",
              "          (3, Fact('острые зубы')),\n",
              "          (4, Fact('когти')),\n",
              "          (5, Fact('вперёд смотрящие глаза')),\n",
              "          (6, Fact('даёт молоко')),\n",
              "          (7, Fact('млекопитающее')),\n",
              "          (8, Fact('хищник')),\n",
              "          (9, Fact(animal='тигр'))])"
            ]
          },
          "metadata": {},
          "execution_count": 9
        }
      ]
    },
    {
      "cell_type": "code",
      "execution_count": null,
      "metadata": {},
      "outputs": [],
      "source": []
    }
  ],
  "metadata": {
    "kernelspec": {
      "name": "python3",
      "display_name": "Python 3.7.4 64-bit (conda)",
      "metadata": {
        "interpreter": {
          "hash": "86193a1ab0ba47eac1c69c1756090baa3b420b3eea7d4aafab8b85f8b312f0c5"
        }
      }
    },
    "language_info": {
      "mimetype": "text/x-python",
      "nbconvert_exporter": "python",
      "name": "python",
      "pygments_lexer": "ipython3",
      "version": "3.7.4-final",
      "file_extension": ".py",
      "codemirror_mode": {
        "version": 3,
        "name": "ipython"
      }
    }
  },
  "nbformat": 4,
  "nbformat_minor": 2
}