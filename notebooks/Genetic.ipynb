{
  "cells": [
    {
      "metadata": {
        "collapsed": true
      },
      "cell_type": "markdown",
      "source": "# Генетические алгоритмы"
    },
    {
      "metadata": {
        "trusted": true
      },
      "cell_type": "code",
      "source": "import random\nimport matplotlib.pyplot as plt\nimport numpy as np\nimport math\nimport time",
      "execution_count": 1,
      "outputs": []
    },
    {
      "metadata": {},
      "cell_type": "markdown",
      "source": "## Немного теории\n\n**Генетические алгоритмы** (ГА) - это воплощение эволюционного подхода к ИИ, в котором мы применяем методы эволюции популяции для получения оптимального решения некоторой задачи. Придуманы в 1975 г. Джоном Холландом.\n\nДля применения ГА необходимо:\n * Придумать алгоритм (способ) кодирования возможных решений задачи некоторыми векторами (**генами**) $g\\in\\Gamma$\n * На множестве генов $\\Gamma$ определить **функцию приспособленности** (fitness function) $\\mathrm{fit}: \\Gamma\\to\\mathbb{R}$. Чем меньше эта функция, тем лучше решение.\n * Придумать механизм скрещивания двух генов, т.е. функцию $\\mathrm{crossover}: \\Gamma^2\\to\\Gamma$, и механизм мутации $\\mathrm{mutate}: \\Gamma\\to\\Gamma$. Как правило, эти функции представляют собой простые манипуляции векторами-генами.\n\nКонкретные реализации ГА могут варьироваться от задачи к задаче, но в целом алгоритм такой:\n\n1. Выбираем начальную популяцию $G\\subset\\Gamma$\n2. Выбираем случайным образом текущую операцию: скрещивание или мутация\n3. **Скрещивание**:\n  * Выбираем случайным образом $g_1, g_2 \\in G$\n  * Вычисляем $g=\\mathrm{crossover}(g_1,g_2)$\n  * Если $\\mathrm{fit}(g)<\\mathrm{fit}(g_1)$ или $\\mathrm{fit}(g)<\\mathrm{fit}(g_2)$ - заменяем соответствующий ген в популяции на $g$.\n4. **Мутация** - выбираем случайный ген $g\\in G$ и заменяем его на $\\mathrm{mutate}(g)$\n5. Повторяем с шага 2, пока не получим достаточно маленькое значение функции $\\mathrm{fit}$, или не исчерпаем число шагов.\n\nТиповые решаемые задачи:\n1. Составление расписаний\n2. Оптимальная упаковка / нарезка на фигуры\n3. Ускорение решения переборных задач\n4. ..."
    },
    {
      "metadata": {},
      "cell_type": "markdown",
      "source": "## Пример 1: Задача о справедливом разделении клада\n\n**Задача**: Двое путников нашли клад с алмазами разного размера (и, соответственно, разной стоимости). Необходимо разделить добычу поровну.\n\n**Формальная постановка**: Есть множество чисел $S$. Необходимо разделить его на два подмножества $S_1$ и $S_2$, таких, что $\\left|\\sum_{i\\in S_1}i - \\sum_{j\\in S_2}j\\right|\\to\\min$."
    },
    {
      "metadata": {
        "trusted": true
      },
      "cell_type": "code",
      "source": "N = 200\nS = np.array([random.randint(1,10000) for _ in range(N)])\nprint(S)",
      "execution_count": 2,
      "outputs": [
        {
          "output_type": "stream",
          "text": "[4400 8449 3594 7122 9936 5266 8379 8019 1942 3875 8130  891 5988 9783\n   17 7753 8585 5156 9814 7417 7087 6919 2541 2399 2737 9607 7971 5431\n 5679 9218 9047 5208 2930 3256 4361 1505 9935  755   74 4784 3561 4928\n 3897 6943 4860 6843 6077 8016  202 4903  323 7904 3527 3636 8373 9744\n 7812 6432 8622 2902  817 1096  613 5507 2644 6398 8206 2341 5086 8649\n  699 1753  518 5692 8631 6674 9177 8596 6483 7547 3613 4714 2217 3973\n 2833 5570   15 3145 5760 6724 5481 8747 8321 7571 4200 2817 2529 1900\n 7909 8796 7169 6464 9612 8200 7200 2795 4321 6328 3351 5862 5003  163\n 2747 3511 6955 7086 2828 9358 8922 9438 9705 6217 8773 2563 7170 4124\n 9736 3317 7462  778 5461 8408 6872 4671 7501 1812 5289 5214 4085 7720\n 3733 9149 4415 9643 5111 8659 6829 9560 9835 9553 5926 3781 6427 2583\n 9892 6967 1977 4058 2773 4139 3673 8388 8858 7718 5635 1318 7581 2201\n 4951 2092 3320 8886 1338 8725   69 5913 4665  896 1888 4996 4644 9129\n 2282 3978  347 8117 1325  108 5364 6280 3401 1819 1629 4561 2458  175\n 2807 9484 7396 1127]\n",
          "name": "stdout"
        }
      ]
    },
    {
      "metadata": {},
      "cell_type": "markdown",
      "source": "Будем кодировать возможное решение задачи двоичным вектором $B\\in\\{0,1\\}^N$, где число, стоящее на $i$-ой позиции, будет показывать, какому из множеств ($S_1$ или $S_2$) принадлежит $i$-ое число в исходном списке. Для генерации таких случайных решений напишем функцию `generate`"
    },
    {
      "metadata": {
        "trusted": true
      },
      "cell_type": "code",
      "source": "def generate(S):\n    return np.array([random.randint(0,1) for _ in S])\n\nb = generate(S)\nprint(b)",
      "execution_count": 3,
      "outputs": [
        {
          "output_type": "stream",
          "text": "[0 1 1 1 1 0 0 1 0 1 0 0 0 0 0 0 1 1 0 0 1 1 0 1 0 0 0 1 0 1 0 0 1 1 0 1 1\n 0 1 0 0 0 1 0 1 0 0 1 1 1 1 1 0 1 0 1 0 1 0 1 0 1 1 1 1 0 1 0 0 1 1 1 0 1\n 0 1 0 1 0 1 0 0 1 1 1 1 0 1 0 1 0 0 0 0 0 1 0 0 0 1 1 0 1 0 0 0 1 0 1 1 0\n 1 1 0 1 1 0 1 1 1 1 0 1 1 0 1 1 0 0 1 1 0 1 0 1 1 0 1 0 1 0 0 1 0 1 0 0 1\n 0 1 1 0 0 0 0 1 1 0 1 0 1 1 0 1 1 1 0 0 1 0 0 1 1 0 1 1 1 1 0 0 0 1 1 0 1\n 0 0 1 1 0 1 1 1 1 0 0 1 1 0 0]\n",
          "name": "stdout"
        }
      ]
    },
    {
      "metadata": {},
      "cell_type": "markdown",
      "source": "Опишем функцию `fit`, определяющую \"стоимость\" решения, т.е. разность между суммами элементов в двух множествах:"
    },
    {
      "metadata": {
        "trusted": true
      },
      "cell_type": "code",
      "source": "def fit(B,S=S):\n    c1 = (B*S).sum()\n    c2 = ((1-B)*S).sum()\n    return abs(c1-c2)\n\nfit(b)",
      "execution_count": 4,
      "outputs": [
        {
          "output_type": "execute_result",
          "execution_count": 4,
          "data": {
            "text/plain": "13762"
          },
          "metadata": {}
        }
      ]
    },
    {
      "metadata": {},
      "cell_type": "markdown",
      "source": "Опишем функции мутации и скрещивания"
    },
    {
      "metadata": {
        "trusted": true
      },
      "cell_type": "code",
      "source": "def mutate(b):\n    x = b.copy()\n    i = random.randint(0,len(b)-1)\n    x[i] = 1-x[i]\n    return x\n\ndef xover(b1,b2):\n    x = generate(b1)\n    return b1*x+b2*(1-x)",
      "execution_count": 5,
      "outputs": []
    },
    {
      "metadata": {},
      "cell_type": "markdown",
      "source": "Создадим начальную популяцию решений"
    },
    {
      "metadata": {
        "trusted": true
      },
      "cell_type": "code",
      "source": "pop_size = 30\nP = [generate(S) for _ in range(pop_size)]",
      "execution_count": 12,
      "outputs": []
    },
    {
      "metadata": {
        "trusted": true
      },
      "cell_type": "code",
      "source": "def evolve(P,S=S,n=2000):\n    res = []\n    for _ in range(n):\n        f = min([fit(b) for b in P])\n        res.append(f)\n        if f==0:\n            break\n        if random.randint(1,10)<3:\n            i = random.randint(0,len(P)-1)\n            b = mutate(P[i])\n            i = np.argmax([fit(z) for z in P])\n            P[i] = b\n        else:\n            i = random.randint(0,len(P)-1)\n            j = random.randint(0,len(P)-1)\n            b = xover(P[i],P[j])\n            if fit(b)<fit(P[i]):\n                P[i]=b\n            elif fit(b)<fit(P[j]):\n                P[j]=b\n            else:\n                pass\n    i = np.argmin([fit(b) for b in P])\n    return (P[i],res)\n\n(s,hist) = evolve(P)\nprint(s,fit(s))",
      "execution_count": 13,
      "outputs": [
        {
          "output_type": "stream",
          "text": "[1 0 1 1 1 1 0 0 0 0 0 1 1 0 0 1 1 0 1 1 0 0 1 1 0 1 1 1 0 0 1 1 1 1 0 1 1\n 0 0 1 0 0 0 1 1 1 1 0 1 0 1 1 0 0 1 0 0 0 0 1 0 1 1 1 0 0 0 1 0 0 1 0 0 1\n 1 0 0 0 0 0 0 1 0 1 1 1 1 0 1 1 0 0 0 0 0 1 1 0 0 1 1 1 1 1 1 0 0 0 0 1 0\n 0 0 0 0 0 0 0 0 1 1 0 1 1 0 0 0 0 1 1 1 0 1 0 0 0 1 1 1 0 0 1 1 0 0 1 0 0\n 1 1 0 0 1 1 1 1 1 1 1 0 1 0 1 0 0 0 1 0 0 0 1 0 1 0 1 1 1 0 0 0 1 1 0 0 1\n 1 0 0 0 1 1 1 0 1 0 0 1 1 1 1] 8\n",
          "name": "stdout"
        }
      ]
    },
    {
      "metadata": {
        "trusted": true
      },
      "cell_type": "code",
      "source": "plt.plot(hist)\nplt.show()",
      "execution_count": 8,
      "outputs": [
        {
          "output_type": "display_data",
          "data": {
            "image/png": "[encoded data removed]",
            "text/plain": "<Figure size 432x288 with 1 Axes>"
          },
          "metadata": {
            "needs_background": "light"
          }
        }
      ]
    },
    {
      "metadata": {},
      "cell_type": "markdown",
      "source": "## Пример 2: Задача N ферзей\n\nНеобходимо расставить $N$ ферзей на шахматной доске размером $N\\times N$ так, чтобы они не били друг друга.\n\nДля начала приведём традиционное рекурсивное решение с помощью перебора с возвратом.\n\nПоложение ферзей на доске будем представлять списком $L$, где $i$-ое число - горизонтальная позиция ферзя в $i$-ой строке.\n\nНаша задача будет найти первую из таких расстановок, после чего поиск можно будет прекратить. Вы сможете легко в качестве самостоятельного упражнения исправить решение, чтобы оно находило все расстановки."
    },
    {
      "metadata": {
        "trusted": true
      },
      "cell_type": "code",
      "source": "N = 8\n\ndef checkbeats(i_new,j_new,l):\n    for i,j in enumerate(l,start=1):\n        if j==j_new:\n            return False\n        else:\n            if abs(j-j_new) == i_new-i:\n                return False\n    return True\n\ndef nqueens(l,N=8,disp=True):\n    if len(l)==N:\n        if disp: print(l)\n        return True\n    else:\n        for j in range(1,N+1):\n            if checkbeats(len(l)+1,j,l):\n                l.append(j)\n                if nqueens(l,N,disp): return True\n                else: l.pop()\n        return False\n            \nnqueens([],8)\n",
      "execution_count": 14,
      "outputs": [
        {
          "output_type": "stream",
          "text": "[1, 5, 8, 6, 3, 7, 2, 4]\n",
          "name": "stdout"
        },
        {
          "output_type": "execute_result",
          "execution_count": 14,
          "data": {
            "text/plain": "True"
          },
          "metadata": {}
        }
      ]
    },
    {
      "metadata": {
        "trusted": true
      },
      "cell_type": "code",
      "source": "%timeit nqueens([],20,False)",
      "execution_count": 15,
      "outputs": [
        {
          "output_type": "stream",
          "text": "7.18 s ± 295 ms per loop (mean ± std. dev. of 7 runs, 1 loop each)\n",
          "name": "stdout"
        }
      ]
    },
    {
      "metadata": {},
      "cell_type": "markdown",
      "source": "Теперь решим ту же задачу с помощью генетического алгоритма. Приведённое решение частично вдохновлено [вот этой статьёй](https://kushalvyas.github.io/gen_8Q.html)\n\nБудем представлять особей в виде описанных выше списков длины $N$, а в качестве минимизируемой функции будем рассматривать количество ферзей, бьющих друг друга в данной позиции. Опишем такую функцию `fit`:"
    },
    {
      "metadata": {
        "trusted": true
      },
      "cell_type": "code",
      "source": "def fit(L):\n    x=0\n    for i1,j1 in enumerate(L,1):\n        for i2,j2 in enumerate(L,1):\n            if i2>i1:\n                if j2==j1 or (abs(j2-j1)==i2-i1): x+=1\n    return x",
      "execution_count": 16,
      "outputs": []
    },
    {
      "metadata": {},
      "cell_type": "markdown",
      "source": "Для ускорения вычислений, будем хранить в популяции списки вместе с их значениями fitness function. Сгенерируем начальную популяцию:"
    },
    {
      "metadata": {
        "trusted": true
      },
      "cell_type": "code",
      "source": "def generate_one(N):\n    x = np.arange(1,N+1)\n    np.random.shuffle(x)\n    return (x,fit(x))\n\ndef generate(N,NP):\n    return [generate_one(N) for _ in range(NP)]\n\ngenerate(8,5)",
      "execution_count": 17,
      "outputs": [
        {
          "output_type": "execute_result",
          "execution_count": 17,
          "data": {
            "text/plain": "[(array([1, 5, 3, 8, 2, 7, 6, 4]), 4),\n (array([6, 8, 2, 4, 1, 5, 7, 3]), 3),\n (array([7, 2, 3, 1, 6, 4, 5, 8]), 4),\n (array([5, 6, 4, 1, 8, 3, 7, 2]), 2),\n (array([3, 5, 2, 1, 8, 7, 4, 6]), 4)]"
          },
          "metadata": {}
        }
      ]
    },
    {
      "metadata": {},
      "cell_type": "markdown",
      "source": "Определим функцию скрещивания и мутации. Скрещивание будет составлять потомка из двух частей, разрывая ген пополам в произвольной точке"
    },
    {
      "metadata": {
        "trusted": true
      },
      "cell_type": "code",
      "source": "def mutate(G):\n    x=random.randint(0,len(G)-1)\n    G[x]=random.randint(1,len(G))\n    return G\n    \ndef xover(G1,G2):\n    x=random.randint(0,len(G1))\n    return np.concatenate((G1[:x],G2[x:]))\n\nxover([1,2,3,4],[5,6,7,8])",
      "execution_count": 18,
      "outputs": [
        {
          "output_type": "execute_result",
          "execution_count": 18,
          "data": {
            "text/plain": "array([1., 2., 3., 4.])"
          },
          "metadata": {}
        }
      ]
    },
    {
      "metadata": {},
      "cell_type": "markdown",
      "source": "Определим функцию выбора генов для селекции. Гены будут выбираться пропорционально их фитнесс-функции"
    },
    {
      "metadata": {
        "trusted": true
      },
      "cell_type": "code",
      "source": "def choose_rand(P):\n    N=len(P[0][0])\n    mf = N*(N-1)//2 # max fitness fn\n    z = [mf-x[1] for x in P]\n    tf = sum(z) # total fitness\n    w = [x/tf for x in z]\n    p = np.random.choice(len(P),2,False,p=w)\n    return p[0],p[1]\n\ndef choose(P):\n    def ch(w):\n        p=[]\n        while p==[]:\n            r = random.random()\n            p = [i for i,x in enumerate(P) if x[1]>=r]\n        return random.choice(p)\n    N=len(P[0][0])\n    mf = N*(N-1)//2 # max fitness fn\n    z = [mf-x[1] for x in P]\n    tf = sum(z) # total fitness\n    w = [x/tf for x in z]\n    p1=p2=0\n    while p1==p2:\n        p1 = ch(w)\n        p2 = ch(w)\n    return p1,p2",
      "execution_count": 19,
      "outputs": []
    },
    {
      "metadata": {},
      "cell_type": "markdown",
      "source": "Самая главная функция поиска решения:"
    },
    {
      "metadata": {
        "trusted": true
      },
      "cell_type": "code",
      "source": "mutation_prob = 0.1\n\ndef discard_unfit(P):\n    P.sort(key=lambda x:x[1])\n    return P[:len(P)//3]\n\ndef nxgeneration(P):\n    gen_size=len(P)\n    P = discard_unfit(P)\n    P.extend(generate(len(P[0][0]),3))\n    new_gen = []\n    for _ in range(gen_size):\n        p1,p2 = choose_rand(P)\n        n = xover(P[p1][0],P[p2][0])\n        if random.random()<mutation_prob:\n            n=mutate(n)\n        nf = fit(n)\n        new_gen.append((n,nf))\n        '''\n        if (nf<=P[p1][1]) or (nf<=P[p2][1]):\n            new_gen.append((n,nf))\n        elif (P[p1][1]<P[p2][1]):\n            new_gen.append(P[p1])\n        else:\n            new_gen.append(P[p2])\n        '''\n    return new_gen\n    \ndef genetic(N,pop_size=100):\n    P = generate(N,pop_size)\n    mf = min([x[1] for x in P])\n    n=0\n    while mf>0:\n        #print(\"Generation {0}, fit={1}\".format(n,mf))\n        n+=1\n        mf = min([x[1] for x in P])\n        P = nxgeneration(P)\n    mi = np.argmin([x[1] for x in P])\n    return P[mi]\n\ngenetic(8)",
      "execution_count": 20,
      "outputs": [
        {
          "output_type": "execute_result",
          "execution_count": 20,
          "data": {
            "text/plain": "(array([2, 4, 6, 8, 3, 1, 7, 5]), 0)"
          },
          "metadata": {}
        }
      ]
    },
    {
      "metadata": {
        "trusted": true
      },
      "cell_type": "code",
      "source": "%timeit genetic(10)",
      "execution_count": 21,
      "outputs": [
        {
          "output_type": "stream",
          "text": "The slowest run took 84.07 times longer than the fastest. This could mean that an intermediate result is being cached.\n7.67 s ± 12.2 s per loop (mean ± std. dev. of 7 runs, 1 loop each)\n",
          "name": "stdout"
        }
      ]
    },
    {
      "metadata": {
        "trusted": true
      },
      "cell_type": "code",
      "source": "import time\ndef measure(f,lo,hi):\n    res = []\n    for n in range(lo,hi):\n        t = time.process_time()\n        for _ in range(5):\n            f(n)\n        t = time.process_time()-t\n        res.append((n,t/5))\n    return res\nn = measure(genetic,3,8)",
      "execution_count": null,
      "outputs": []
    },
    {
      "metadata": {
        "trusted": true
      },
      "cell_type": "markdown",
      "source": "## Задание: Решение Диофантовых уравнений\n\nЗадание вдохновлено [вот этим постом](https://habr.com/post/128704/). \n\nДиофантово уравнение - это уравнение с целочисленными корнями. Рассмотрим, например, уравнение\n$$\na+2b+3c+4d=30\n$$\nНам необходимо найти такие числа $a$,$b$,$c$,$d\\in\\mathbb{N}$, чтобы равенство выполнялось.\n\nПодсказка 1: Можно рассматривать корни в диапазоне $[0,30]$\n\nПодсказка 2: В качестве гена можно рассматривать список из значений корней"
    },
    {
      "metadata": {
        "trusted": true
      },
      "cell_type": "code",
      "source": "",
      "execution_count": null,
      "outputs": []
    },
    {
      "metadata": {},
      "cell_type": "markdown",
      "source": "## Полезные ссылки\n\n1. [Пример поиска кратчайшего пути между точками с помощью ГА](https://shra.ru/2016/12/geneticheskijj-algoritm-primer-primeneniya-metodiki/). Там же на сайте есть красивый пример анимации популяции алгоритма в процессе поиска пути.\n2. [Генетический алгоритм применительно к строкам текста](https://habr.com/post/246951/)"
    }
  ],
  "metadata": {
    "kernelspec": {
      "name": "python36",
      "display_name": "Python 3.6",
      "language": "python"
    },
    "language_info": {
      "mimetype": "text/x-python",
      "nbconvert_exporter": "python",
      "name": "python",
      "pygments_lexer": "ipython3",
      "version": "3.6.6",
      "file_extension": ".py",
      "codemirror_mode": {
        "version": 3,
        "name": "ipython"
      }
    }
  },
  "nbformat": 4,
  "nbformat_minor": 2
}